{
 "cells": [
  {
   "cell_type": "code",
   "execution_count": 12,
   "id": "7c84db76",
   "metadata": {},
   "outputs": [
    {
     "name": "stdout",
     "output_type": "stream",
     "text": [
      "12\n"
     ]
    }
   ],
   "source": [
    "###Pre Lec\n",
    "### Question 1 \n",
    "\n",
    "import pandas as pd # aliasing usage is `pd.read_csv()`\n",
    "import pandas # original name usaged is `pandas.read_csv()`\n",
    "from pandas import read_csv # funtion only import usage is `read_csv()`\n",
    "url = \"https://raw.githubusercontent.com/rfordatascience/tidytuesday/master/data/2020/2020-05-05/villagers.csv\"\n",
    "df = pd.read_csv(url)\n",
    "print(df.isnull().sum().sum())\n",
    "\n",
    "### No chatbots used for this question, Prints 12 as there are 12 missing values in the Data frame\n",
    "\n"
   ]
  },
  {
   "cell_type": "code",
   "execution_count": 14,
   "id": "baf9793d",
   "metadata": {},
   "outputs": [
    {
     "name": "stdout",
     "output_type": "stream",
     "text": [
      "(391, 11)\n"
     ]
    },
    {
     "data": {
      "text/plain": [
       "\"\\nrow_n: row of each observation in the DF\\nid: id for each villager(their first name).\\nname: The name of the villager.\\ngender: The gender of the villager ).\\nspecies: The species of the villager .\\nbirthday: the villagers birthday (DD/Month).\\npersonality: the villager's personality\\nsong: the villager's favroite song which is apart of the Animal Crossing OST.\\nphrase: A catchphrase that the villager uses.\\nfull_id: A more detailed identifier that might combine elements like species and name.\\nurl: A link to a webpage about the villager\\n\""
      ]
     },
     "execution_count": 14,
     "metadata": {},
     "output_type": "execute_result"
    }
   ],
   "source": [
    "### Question 2\n",
    "\n",
    "### Chat GPT Chat Link https://chatgpt.com/share/c4c7045b-e7c1-4733-81c3-97f56a4b041d\n",
    "\n",
    "import pandas as pd # aliasing usage is `pd.read_csv()`\n",
    "import pandas # original name usaged is `pandas.read_csv()`\n",
    "from pandas import read_csv # funtion only import usage is `read_csv()`\n",
    "url = \"https://raw.githubusercontent.com/rfordatascience/tidytuesday/master/data/2020/2020-05-05/villagers.csv\"\n",
    "df = pd.read_csv(url)\n",
    "\n",
    "print(df.shape)\n",
    "\n",
    "'''\n",
    "row_n: row of each observation in the DF\n",
    "id: id for each villager(their first name).\n",
    "name: The name of the villager.\n",
    "gender: The gender of the villager ).\n",
    "species: The species of the villager .\n",
    "birthday: the villagers birthday (DD/Month).\n",
    "personality: the villager's personality\n",
    "song: the villager's favroite song which is apart of the Animal Crossing OST.\n",
    "phrase: A catchphrase that the villager uses.\n",
    "full_id: A more detailed identifier that might combine elements like species and name.\n",
    "url: A link to a webpage about the villager\n",
    "'''\n"
   ]
  },
  {
   "cell_type": "code",
   "execution_count": 15,
   "id": "f69dd838",
   "metadata": {},
   "outputs": [
    {
     "name": "stdout",
     "output_type": "stream",
     "text": [
      "Numerical Summary:\n",
      "            row_n\n",
      "count  391.000000\n",
      "mean   239.902813\n",
      "std    140.702672\n",
      "min      2.000000\n",
      "25%    117.500000\n",
      "50%    240.000000\n",
      "75%    363.500000\n",
      "max    483.000000\n",
      "\n",
      "Species Counts:\n",
      "species\n",
      "cat          23\n",
      "rabbit       20\n",
      "frog         18\n",
      "squirrel     18\n",
      "duck         17\n",
      "dog          16\n",
      "cub          16\n",
      "pig          15\n",
      "bear         15\n",
      "mouse        15\n",
      "horse        15\n",
      "bird         13\n",
      "penguin      13\n",
      "sheep        13\n",
      "elephant     11\n",
      "wolf         11\n",
      "ostrich      10\n",
      "deer         10\n",
      "eagle         9\n",
      "gorilla       9\n",
      "chicken       9\n",
      "koala         9\n",
      "goat          8\n",
      "hamster       8\n",
      "kangaroo      8\n",
      "monkey        8\n",
      "anteater      7\n",
      "hippo         7\n",
      "tiger         7\n",
      "alligator     7\n",
      "lion          7\n",
      "bull          6\n",
      "rhino         6\n",
      "cow           4\n",
      "octopus       3\n",
      "Name: count, dtype: int64\n",
      "\n",
      "Personality Counts:\n",
      "personality\n",
      "lazy      60\n",
      "normal    59\n",
      "cranky    55\n",
      "snooty    55\n",
      "jock      55\n",
      "peppy     49\n",
      "smug      34\n",
      "uchi      24\n",
      "Name: count, dtype: int64\n"
     ]
    }
   ],
   "source": [
    "### Question 3\n",
    "### CHATGPT : https://chatgpt.com/share/c4c7045b-e7c1-4733-81c3-97f56a4b041d\n",
    "import pandas as pd # aliasing usage is `pd.read_csv()`\n",
    "import pandas # original name usaged is `pandas.read_csv()`\n",
    "from pandas import read_csv # funtion only import usage is `read_csv()`\n",
    "url = \"https://raw.githubusercontent.com/rfordatascience/tidytuesday/master/data/2020/2020-05-05/villagers.csv\"\n",
    "df = pd.read_csv(url)\n",
    "\n",
    "print(\"Numerical Summary:\")\n",
    "print(df.describe())\n",
    "\n",
    "# Summary of categorical columns\n",
    "print(\"\\nSpecies Counts:\")\n",
    "print(df['species'].value_counts())\n",
    "\n",
    "print(\"\\nPersonality Counts:\")\n",
    "print(df['personality'].value_counts())\n"
   ]
  },
  {
   "cell_type": "code",
   "execution_count": 16,
   "id": "5223d1aa",
   "metadata": {},
   "outputs": [
    {
     "name": "stdout",
     "output_type": "stream",
     "text": [
      "<bound method NDFrame.describe of      survived  pclass     sex   age  sibsp  parch     fare embarked   class  \\\n",
      "0           0       3    male  22.0      1      0   7.2500        S   Third   \n",
      "1           1       1  female  38.0      1      0  71.2833        C   First   \n",
      "2           1       3  female  26.0      0      0   7.9250        S   Third   \n",
      "3           1       1  female  35.0      1      0  53.1000        S   First   \n",
      "4           0       3    male  35.0      0      0   8.0500        S   Third   \n",
      "..        ...     ...     ...   ...    ...    ...      ...      ...     ...   \n",
      "886         0       2    male  27.0      0      0  13.0000        S  Second   \n",
      "887         1       1  female  19.0      0      0  30.0000        S   First   \n",
      "888         0       3  female   NaN      1      2  23.4500        S   Third   \n",
      "889         1       1    male  26.0      0      0  30.0000        C   First   \n",
      "890         0       3    male  32.0      0      0   7.7500        Q   Third   \n",
      "\n",
      "       who  adult_male deck  embark_town alive  alone  \n",
      "0      man        True  NaN  Southampton    no  False  \n",
      "1    woman       False    C    Cherbourg   yes  False  \n",
      "2    woman       False  NaN  Southampton   yes   True  \n",
      "3    woman       False    C  Southampton   yes  False  \n",
      "4      man        True  NaN  Southampton    no   True  \n",
      "..     ...         ...  ...          ...   ...    ...  \n",
      "886    man        True  NaN  Southampton    no   True  \n",
      "887  woman       False    B  Southampton   yes   True  \n",
      "888  woman       False  NaN  Southampton    no  False  \n",
      "889    man        True    C    Cherbourg   yes   True  \n",
      "890    man        True  NaN   Queenstown    no   True  \n",
      "\n",
      "[891 rows x 15 columns]>\n"
     ]
    }
   ],
   "source": [
    "### Question 4\n",
    "### CGPT : https://chatgpt.com/share/d2533337-20c5-4721-9ea8-6544c2a49a68\n",
    "import pandas as pd # aliasing usage is `pd.read_csv()`\n",
    "import pandas # original name usaged is `pandas.read_csv()`\n",
    "from pandas import read_csv # funtion only import usage is `read_csv()`\n",
    "url = \"https://raw.githubusercontent.com/mwaskom/seaborn-data/master/titanic.csv\"\n",
    "df = pd.read_csv(url)\n",
    "\n",
    "print(df.describe)\n",
    "\n",
    "'''\n",
    "It seems like df desribe only looks at numerical values at the top and summarizes the non numerical below  \n",
    "'''"
   ]
  },
  {
   "cell_type": "code",
   "execution_count": null,
   "id": "ac1973b4",
   "metadata": {},
   "outputs": [],
   "source": [
    "### Question 5\n",
    "\n",
    "'''\n",
    "https://chatgpt.com/share/ebe85f43-963c-47c0-b57d-adb566ffabc7\n",
    "the ()s indicate it is a method/function as the () would  where parameters go so that is df.describe()\n",
    "df.shape is not that as even methods that have 0 parameters has ()s so it must be an instance variable of the object DF\n",
    "'''"
   ]
  }
 ],
 "metadata": {
  "kernelspec": {
   "display_name": "Python 3 (ipykernel)",
   "language": "python",
   "name": "python3"
  },
  "language_info": {
   "codemirror_mode": {
    "name": "ipython",
    "version": 3
   },
   "file_extension": ".py",
   "mimetype": "text/x-python",
   "name": "python",
   "nbconvert_exporter": "python",
   "pygments_lexer": "ipython3",
   "version": "3.11.6"
  }
 },
 "nbformat": 4,
 "nbformat_minor": 5
}
